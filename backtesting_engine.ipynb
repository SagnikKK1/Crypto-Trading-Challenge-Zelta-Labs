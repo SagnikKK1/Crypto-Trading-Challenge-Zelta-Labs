{
 "cells": [
  {
   "cell_type": "code",
   "execution_count": 6,
   "id": "2a291298-52d7-42bd-9153-4b9aba95cb87",
   "metadata": {},
   "outputs": [],
   "source": [
    "import pandas as pd\n",
    "import numpy as np\n",
    "import seaborn as sns\n",
    "pd.options.mode.chained_assignment = None"
   ]
  },
  {
   "cell_type": "code",
   "execution_count": 7,
   "id": "cf8c7532-b55e-4518-8a35-e787a99fb02a",
   "metadata": {},
   "outputs": [],
   "source": [
    "df=pd.read_csv('Nbeats_2/final_logs.csv')\n",
    "df['datetime']=pd.to_datetime(df['datetime'])"
   ]
  },
  {
   "cell_type": "code",
   "execution_count": 8,
   "id": "b8418a2d-4a63-4f58-938f-4aebdbce25f9",
   "metadata": {
    "scrolled": true
   },
   "outputs": [],
   "source": [
    "df.rename(columns={'signal':'signals'},inplace=True)"
   ]
  },
  {
   "cell_type": "markdown",
   "id": "99c8f7d5-dbb2-4ae2-a168-28d74ebd9dfd",
   "metadata": {},
   "source": [
    "# Engine"
   ]
  },
  {
   "cell_type": "code",
   "execution_count": 9,
   "id": "4be5e4a9-0a1a-4909-aaa3-c206abbaf84a",
   "metadata": {},
   "outputs": [
    {
     "name": "stdout",
     "output_type": "stream",
     "text": [
      "Average holding time: 0 days 00:57:00\n",
      "Average Returns: 46.32715991316391\n",
      "Average Profit: 117.82310265554162\n",
      "Average Loss: -99.02173467298859\n",
      "Max holding time: 0 days 00:57:00\n",
      "Maximum Profit: 777.1853891510091\n",
      "Maximum Loss: -869.3264193863888\n",
      "Number of trades: 276\n",
      "Number of wins: 185\n",
      "Number of losses: 91\n",
      "% wins are : 67.02898550724638\n",
      "intial portfolio value: 1000\n",
      "final portfolio value: 13786.29613603324\n",
      "benchmark portfolio value: 3255.8840842559675\n",
      "Peak portfolio Value: 16027.419487369812\n",
      "lowest portfolio Value: 994.4740484309757\n",
      "max drawdown: 16.122920384927916\n",
      "From: 2018-01-03 15:30:00\n",
      "From: 2021-12-04 13:27:00\n"
     ]
    }
   ],
   "source": [
    "signal=df[df['signals']!=0]\n",
    "returns=[]\n",
    "trade_time=[]\n",
    "\n",
    "for i in range(0,len(signal),2):\n",
    "    if signal['signals'].iloc[i]==1: #long position\n",
    "        entry=signal['open'].iloc[i]\n",
    "        exit=signal['open'].iloc[i+1]\n",
    "        returns.append((exit-entry)/entry)\n",
    "        trade_time.append(signal['datetime'].iloc[i+1]-signal['datetime'].iloc[i])\n",
    "    else:\n",
    "        entry=signal['open'].iloc[i]\n",
    "        exit=signal['open'].iloc[i+1]\n",
    "        returns.append((entry-exit)/entry)\n",
    "        trade_time.append(signal['datetime'].iloc[i+1]-signal['datetime'].iloc[i])\n",
    "        \n",
    "trade_time=np.array(trade_time)\n",
    "returns=np.array(returns)\n",
    "returns_2=0.998+returns\n",
    "portfolio=[1000]\n",
    "\n",
    "for i in returns_2:\n",
    "    portfolio.append(portfolio[-1]*i)\n",
    "    \n",
    "max_drawdown=0\n",
    "peak_portfolio=1000\n",
    "for i in portfolio:\n",
    "    if i > peak_portfolio:\n",
    "        peak_portfolio=i\n",
    "    else:\n",
    "        drawdown=(peak_portfolio-i)/peak_portfolio\n",
    "        max_drawdown=max(drawdown,max_drawdown)\n",
    "pnl=[]\n",
    "for i in range(1,len(portfolio)):\n",
    "    pnl.append(portfolio[i]-portfolio[i-1])\n",
    "    \n",
    "pnl=np.array(pnl)\n",
    "pnl_loss=pnl[pnl<0]\n",
    "pnl_profit=pnl[pnl>=0]\n",
    "benchmark=1000*(0.998+(signal['close'].iloc[-1]-signal['open'].iloc[0])/signal['open'].iloc[0])\n",
    "\n",
    "print(f\"Average holding time: {np.mean(trade_time)}\")\n",
    "print(f\"Average Returns: {np.mean(pnl)}\")\n",
    "print(f\"Average Profit: {np.mean(pnl_profit)}\")\n",
    "print(f\"Average Loss: {np.mean(pnl_loss)}\")\n",
    "print(f\"Max holding time: {np.max(trade_time)}\")\n",
    "print(f\"Maximum Profit: {np.max(pnl)}\")\n",
    "print(f\"Maximum Loss: {np.min(pnl)}\")\n",
    "print(f\"Number of trades: {len(returns)}\")\n",
    "print(f\"Number of wins: {len(pnl_profit)}\")\n",
    "print(f\"Number of losses: {len(pnl_loss)}\")\n",
    "print(f\"% wins are : {100*len(pnl_profit)/len(returns)}\")\n",
    "print(f'intial portfolio value: 1000')\n",
    "print(f'final portfolio value: {portfolio[-1]}')\n",
    "print(f'benchmark portfolio value: {benchmark}')\n",
    "print(f\"Peak portfolio Value: {max(portfolio)}\")\n",
    "print(f\"lowest portfolio Value: {min(portfolio)}\")\n",
    "print(f\"max drawdown: {max_drawdown*100}\")\n",
    "print(f\"From: {signal['datetime'].iloc[0]}\")\n",
    "print(f\"From: {signal['datetime'].iloc[-1]}\")"
   ]
  },
  {
   "cell_type": "code",
   "execution_count": 10,
   "id": "914bdc23-355e-4f12-af10-163c8c55a2d5",
   "metadata": {},
   "outputs": [
    {
     "data": {
      "text/plain": [
       "<Axes: >"
      ]
     },
     "execution_count": 10,
     "metadata": {},
     "output_type": "execute_result"
    },
    {
     "data": {
      "image/png": "[encoded data removed]",
      "text/plain": [
       "<Figure size 640x480 with 1 Axes>"
      ]
     },
     "metadata": {},
     "output_type": "display_data"
    }
   ],
   "source": [
    "sns.lineplot(portfolio)"
   ]
  },
  {
   "cell_type": "code",
   "execution_count": 11,
   "id": "ec68a965-44f7-4d68-8e3d-19fde3f95f90",
   "metadata": {},
   "outputs": [
    {
     "data": {
      "text/plain": [
       "count    276.000000\n",
       "mean       1.009889\n",
       "std        0.026310\n",
       "min        0.904569\n",
       "25%        0.995340\n",
       "50%        1.006792\n",
       "75%        1.020669\n",
       "max        1.140025\n",
       "dtype: float64"
      ]
     },
     "execution_count": 11,
     "metadata": {},
     "output_type": "execute_result"
    }
   ],
   "source": [
    "pd.Series(returns_2).describe()"
   ]
  },
  {
   "cell_type": "code",
   "execution_count": null,
   "id": "78b19470-7976-45fe-b7e6-8e165e322cb1",
   "metadata": {},
   "outputs": [],
   "source": []
  },
  {
   "cell_type": "code",
   "execution_count": null,
   "id": "3490267f-e99f-4fef-b511-ee11b1d1a8d0",
   "metadata": {},
   "outputs": [],
   "source": []
  }
 ],
 "metadata": {
  "kernelspec": {
   "display_name": "Python 3 (ipykernel)",
   "language": "python",
   "name": "python3"
  },
  "language_info": {
   "codemirror_mode": {
    "name": "ipython",
    "version": 3
   },
   "file_extension": ".py",
   "mimetype": "text/x-python",
   "name": "python",
   "nbconvert_exporter": "python",
   "pygments_lexer": "ipython3",
   "version": "3.11.5"
  }
 },
 "nbformat": 4,
 "nbformat_minor": 5
}
