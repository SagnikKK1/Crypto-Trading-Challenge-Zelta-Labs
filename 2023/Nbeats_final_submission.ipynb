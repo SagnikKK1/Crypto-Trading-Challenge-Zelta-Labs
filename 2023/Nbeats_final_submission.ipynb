{
 "cells": [
  {
   "cell_type": "code",
   "execution_count": null,
   "metadata": {
    "colab": {
     "base_uri": "https://localhost:8080/",
     "height": 423
    },
    "execution": {
     "iopub.execute_input": "2023-12-15T18:37:18.705237Z",
     "iopub.status.busy": "2023-12-15T18:37:18.704407Z",
     "iopub.status.idle": "2023-12-15T18:37:18.842257Z",
     "shell.execute_reply": "2023-12-15T18:37:18.841289Z",
     "shell.execute_reply.started": "2023-12-15T18:37:18.705197Z"
    },
    "id": "8lO3fW-IWHsr",
    "outputId": "56570800-a028-40db-ad7f-f6b728cf92c6"
   },
   "outputs": [
    {
     "data": {
      "text/html": [
       "<div>\n",
       "<style scoped>\n",
       "    .dataframe tbody tr th:only-of-type {\n",
       "        vertical-align: middle;\n",
       "    }\n",
       "\n",
       "    .dataframe tbody tr th {\n",
       "        vertical-align: top;\n",
       "    }\n",
       "\n",
       "    .dataframe thead th {\n",
       "        text-align: right;\n",
       "    }\n",
       "</style>\n",
       "<table border=\"1\" class=\"dataframe\">\n",
       "  <thead>\n",
       "    <tr style=\"text-align: right;\">\n",
       "      <th></th>\n",
       "      <th>datetime</th>\n",
       "      <th>open</th>\n",
       "      <th>high</th>\n",
       "      <th>low</th>\n",
       "      <th>close</th>\n",
       "      <th>volume</th>\n",
       "    </tr>\n",
       "  </thead>\n",
       "  <tbody>\n",
       "    <tr>\n",
       "      <th>0</th>\n",
       "      <td>2018-01-01 05:30:00</td>\n",
       "      <td>13715.65</td>\n",
       "      <td>13715.65</td>\n",
       "      <td>13400.01</td>\n",
       "      <td>13529.01</td>\n",
       "      <td>443.356199</td>\n",
       "    </tr>\n",
       "    <tr>\n",
       "      <th>1</th>\n",
       "      <td>2018-01-01 06:30:00</td>\n",
       "      <td>13528.99</td>\n",
       "      <td>13595.89</td>\n",
       "      <td>13155.38</td>\n",
       "      <td>13203.06</td>\n",
       "      <td>383.697006</td>\n",
       "    </tr>\n",
       "    <tr>\n",
       "      <th>2</th>\n",
       "      <td>2018-01-01 07:30:00</td>\n",
       "      <td>13203.00</td>\n",
       "      <td>13418.43</td>\n",
       "      <td>13200.00</td>\n",
       "      <td>13330.18</td>\n",
       "      <td>429.064572</td>\n",
       "    </tr>\n",
       "    <tr>\n",
       "      <th>3</th>\n",
       "      <td>2018-01-01 08:30:00</td>\n",
       "      <td>13330.26</td>\n",
       "      <td>13611.27</td>\n",
       "      <td>13290.00</td>\n",
       "      <td>13410.03</td>\n",
       "      <td>420.087030</td>\n",
       "    </tr>\n",
       "    <tr>\n",
       "      <th>4</th>\n",
       "      <td>2018-01-01 09:30:00</td>\n",
       "      <td>13434.98</td>\n",
       "      <td>13623.29</td>\n",
       "      <td>13322.15</td>\n",
       "      <td>13601.01</td>\n",
       "      <td>340.807329</td>\n",
       "    </tr>\n",
       "    <tr>\n",
       "      <th>...</th>\n",
       "      <td>...</td>\n",
       "      <td>...</td>\n",
       "      <td>...</td>\n",
       "      <td>...</td>\n",
       "      <td>...</td>\n",
       "      <td>...</td>\n",
       "    </tr>\n",
       "    <tr>\n",
       "      <th>35203</th>\n",
       "      <td>2022-01-12 01:30:00</td>\n",
       "      <td>42972.04</td>\n",
       "      <td>43095.26</td>\n",
       "      <td>42692.19</td>\n",
       "      <td>42800.38</td>\n",
       "      <td>1219.601780</td>\n",
       "    </tr>\n",
       "    <tr>\n",
       "      <th>35204</th>\n",
       "      <td>2022-01-12 02:30:00</td>\n",
       "      <td>42797.62</td>\n",
       "      <td>42823.69</td>\n",
       "      <td>42643.74</td>\n",
       "      <td>42659.20</td>\n",
       "      <td>702.103800</td>\n",
       "    </tr>\n",
       "    <tr>\n",
       "      <th>35205</th>\n",
       "      <td>2022-01-12 03:30:00</td>\n",
       "      <td>42664.71</td>\n",
       "      <td>42776.14</td>\n",
       "      <td>42597.41</td>\n",
       "      <td>42713.13</td>\n",
       "      <td>561.859930</td>\n",
       "    </tr>\n",
       "    <tr>\n",
       "      <th>35206</th>\n",
       "      <td>2022-01-12 04:30:00</td>\n",
       "      <td>42713.12</td>\n",
       "      <td>42886.28</td>\n",
       "      <td>42633.97</td>\n",
       "      <td>42729.29</td>\n",
       "      <td>681.142010</td>\n",
       "    </tr>\n",
       "    <tr>\n",
       "      <th>35207</th>\n",
       "      <td>2022-01-12 05:30:00</td>\n",
       "      <td>42729.29</td>\n",
       "      <td>42965.00</td>\n",
       "      <td>42578.02</td>\n",
       "      <td>42675.00</td>\n",
       "      <td>1004.906890</td>\n",
       "    </tr>\n",
       "  </tbody>\n",
       "</table>\n",
       "<p>35208 rows × 6 columns</p>\n",
       "</div>"
      ],
      "text/plain": [
       "                  datetime      open      high       low     close  \\\n",
       "0      2018-01-01 05:30:00  13715.65  13715.65  13400.01  13529.01   \n",
       "1      2018-01-01 06:30:00  13528.99  13595.89  13155.38  13203.06   \n",
       "2      2018-01-01 07:30:00  13203.00  13418.43  13200.00  13330.18   \n",
       "3      2018-01-01 08:30:00  13330.26  13611.27  13290.00  13410.03   \n",
       "4      2018-01-01 09:30:00  13434.98  13623.29  13322.15  13601.01   \n",
       "...                    ...       ...       ...       ...       ...   \n",
       "35203  2022-01-12 01:30:00  42972.04  43095.26  42692.19  42800.38   \n",
       "35204  2022-01-12 02:30:00  42797.62  42823.69  42643.74  42659.20   \n",
       "35205  2022-01-12 03:30:00  42664.71  42776.14  42597.41  42713.13   \n",
       "35206  2022-01-12 04:30:00  42713.12  42886.28  42633.97  42729.29   \n",
       "35207  2022-01-12 05:30:00  42729.29  42965.00  42578.02  42675.00   \n",
       "\n",
       "            volume  \n",
       "0       443.356199  \n",
       "1       383.697006  \n",
       "2       429.064572  \n",
       "3       420.087030  \n",
       "4       340.807329  \n",
       "...            ...  \n",
       "35203  1219.601780  \n",
       "35204   702.103800  \n",
       "35205   561.859930  \n",
       "35206   681.142010  \n",
       "35207  1004.906890  \n",
       "\n",
       "[35208 rows x 6 columns]"
      ]
     },
     "execution_count": 3,
     "metadata": {},
     "output_type": "execute_result"
    }
   ],
   "source": [
    "import pandas as pd\n",
    "import tensorflow as tf\n",
    "from tensorflow.keras import layers\n",
    "btc=pd.read_csv('/kaggle/input/btc-data/btcusdt_1h_zelta.csv')\n",
    "btc"
   ]
  },
  {
   "cell_type": "markdown",
   "metadata": {
    "id": "Jqe92JbWRhjW"
   },
   "source": [
    "The provided code defines a class called NBeatsBlock in TensorFlow/Keras. This class represents a block of the N-BEATS forecasting model, which is a neural network architecture designed for time series forecasting. The NBeatsBlock class defines a building block for the N-BEATS forecasting model, with the ability to take an input time series, apply a series of hidden layers, and output both backcast and forecast components. This block can be used as a part of a larger N-BEATS architecture for time series prediction tasks."
   ]
  },
  {
   "cell_type": "code",
   "execution_count": null,
   "metadata": {
    "execution": {
     "iopub.execute_input": "2023-12-15T18:37:19.637659Z",
     "iopub.status.busy": "2023-12-15T18:37:19.637041Z",
     "iopub.status.idle": "2023-12-15T18:37:19.646275Z",
     "shell.execute_reply": "2023-12-15T18:37:19.645363Z",
     "shell.execute_reply.started": "2023-12-15T18:37:19.637625Z"
    },
    "id": "U3QrnTXpaEZo"
   },
   "outputs": [],
   "source": [
    "WINDOW_SIZE=6\n",
    "HORIZON=1\n",
    "\n",
    "class NBeatsBlock(tf.keras.layers.Layer):\n",
    "  def __init__(self,\n",
    "               input_size: int,\n",
    "               theta_size: int,\n",
    "               horizon: int,\n",
    "               n_neurons: int,\n",
    "               n_layers: int,\n",
    "               **kwargs):\n",
    "    super().__init__(**kwargs)\n",
    "    self.input_size = input_size\n",
    "    self.theta_size = theta_size\n",
    "    self.horizon = horizon\n",
    "    self.n_neurons = n_neurons\n",
    "    self.n_layers = n_layers\n",
    "\n",
    "\n",
    "    self.hidden = [tf.keras.layers.Dense(n_neurons, activation=\"relu\") for _ in range(n_layers)]\n",
    "\n",
    "    self.theta_layer = tf.keras.layers.Dense(theta_size, activation=\"linear\", name=\"theta\")\n",
    "\n",
    "  def call(self, inputs):\n",
    "    x = inputs\n",
    "    for layer in self.hidden:\n",
    "      x = layer(x)\n",
    "    theta = self.theta_layer(x)\n",
    "\n",
    "    backcast, forecast = theta[:, :self.input_size], theta[:, -self.horizon:]\n",
    "    return backcast, forecast"
   ]
  },
  {
   "cell_type": "markdown",
   "metadata": {
    "id": "9KKfGeYISUIn"
   },
   "source": [
    "# DataFrame Preparation:\n",
    "\n",
    "**bitcoin_prices**: Creates a new DataFrame named bitcoin_prices using the 'close' column from a DataFrame btc.\n",
    "Renames the 'close' column to 'Price' in the bitcoin_prices DataFrame.\n",
    "# Creating Lag Features:\n",
    "\n",
    "**bitcoin_prices_nbeats:** Creates a copy of the bitcoin_prices DataFrame called bitcoin_prices_nbeats.\n",
    "Utilizes a loop to create lag features (time-shifted versions of the 'Price' column) for the specified WINDOW_SIZE.\n",
    "The loop iterates from 1 to WINDOW_SIZE, creating new columns named \"Price+1\", \"Price+2\", ..., \"Price+WINDOW_SIZE\" in bitcoin_prices_nbeats. Each new column contains the 'Price' values shifted by the corresponding number of periods.\n",
    "# Data Cleaning:\n",
    "\n",
    "**bitcoin_prices_nbeats.dropna():** Removes rows with missing values (NaN) resulting from the lagged features.\n",
    ".head(): Displays the first few rows of the cleaned DataFrame.\n"
   ]
  },
  {
   "cell_type": "code",
   "execution_count": null,
   "metadata": {
    "colab": {
     "base_uri": "https://localhost:8080/",
     "height": 206
    },
    "execution": {
     "iopub.execute_input": "2023-12-15T18:37:19.933711Z",
     "iopub.status.busy": "2023-12-15T18:37:19.933390Z",
     "iopub.status.idle": "2023-12-15T18:37:19.960223Z",
     "shell.execute_reply": "2023-12-15T18:37:19.959353Z",
     "shell.execute_reply.started": "2023-12-15T18:37:19.933685Z"
    },
    "id": "FBshFVe_aU2v",
    "outputId": "8b40bf31-ee2d-4a08-c39c-801be6498b12"
   },
   "outputs": [
    {
     "data": {
      "text/html": [
       "<div>\n",
       "<style scoped>\n",
       "    .dataframe tbody tr th:only-of-type {\n",
       "        vertical-align: middle;\n",
       "    }\n",
       "\n",
       "    .dataframe tbody tr th {\n",
       "        vertical-align: top;\n",
       "    }\n",
       "\n",
       "    .dataframe thead th {\n",
       "        text-align: right;\n",
       "    }\n",
       "</style>\n",
       "<table border=\"1\" class=\"dataframe\">\n",
       "  <thead>\n",
       "    <tr style=\"text-align: right;\">\n",
       "      <th></th>\n",
       "      <th>Price</th>\n",
       "      <th>Price+1</th>\n",
       "      <th>Price+2</th>\n",
       "      <th>Price+3</th>\n",
       "      <th>Price+4</th>\n",
       "      <th>Price+5</th>\n",
       "      <th>Price+6</th>\n",
       "    </tr>\n",
       "  </thead>\n",
       "  <tbody>\n",
       "    <tr>\n",
       "      <th>6</th>\n",
       "      <td>13780.41</td>\n",
       "      <td>13558.99</td>\n",
       "      <td>13601.01</td>\n",
       "      <td>13410.03</td>\n",
       "      <td>13330.18</td>\n",
       "      <td>13203.06</td>\n",
       "      <td>13529.01</td>\n",
       "    </tr>\n",
       "    <tr>\n",
       "      <th>7</th>\n",
       "      <td>13570.35</td>\n",
       "      <td>13780.41</td>\n",
       "      <td>13558.99</td>\n",
       "      <td>13601.01</td>\n",
       "      <td>13410.03</td>\n",
       "      <td>13330.18</td>\n",
       "      <td>13203.06</td>\n",
       "    </tr>\n",
       "    <tr>\n",
       "      <th>8</th>\n",
       "      <td>13499.99</td>\n",
       "      <td>13570.35</td>\n",
       "      <td>13780.41</td>\n",
       "      <td>13558.99</td>\n",
       "      <td>13601.01</td>\n",
       "      <td>13410.03</td>\n",
       "      <td>13330.18</td>\n",
       "    </tr>\n",
       "    <tr>\n",
       "      <th>9</th>\n",
       "      <td>13616.99</td>\n",
       "      <td>13499.99</td>\n",
       "      <td>13570.35</td>\n",
       "      <td>13780.41</td>\n",
       "      <td>13558.99</td>\n",
       "      <td>13601.01</td>\n",
       "      <td>13410.03</td>\n",
       "    </tr>\n",
       "    <tr>\n",
       "      <th>10</th>\n",
       "      <td>13570.01</td>\n",
       "      <td>13616.99</td>\n",
       "      <td>13499.99</td>\n",
       "      <td>13570.35</td>\n",
       "      <td>13780.41</td>\n",
       "      <td>13558.99</td>\n",
       "      <td>13601.01</td>\n",
       "    </tr>\n",
       "  </tbody>\n",
       "</table>\n",
       "</div>"
      ],
      "text/plain": [
       "       Price   Price+1   Price+2   Price+3   Price+4   Price+5   Price+6\n",
       "6   13780.41  13558.99  13601.01  13410.03  13330.18  13203.06  13529.01\n",
       "7   13570.35  13780.41  13558.99  13601.01  13410.03  13330.18  13203.06\n",
       "8   13499.99  13570.35  13780.41  13558.99  13601.01  13410.03  13330.18\n",
       "9   13616.99  13499.99  13570.35  13780.41  13558.99  13601.01  13410.03\n",
       "10  13570.01  13616.99  13499.99  13570.35  13780.41  13558.99  13601.01"
      ]
     },
     "execution_count": 5,
     "metadata": {},
     "output_type": "execute_result"
    }
   ],
   "source": [
    "bitcoin_prices=pd.DataFrame(btc['close'])\n",
    "bitcoin_prices.rename(columns={'close':'Price'},inplace=True)\n",
    "bitcoin_prices_nbeats = bitcoin_prices.copy()\n",
    "for i in range(WINDOW_SIZE):\n",
    "  bitcoin_prices_nbeats[f\"Price+{i+1}\"] = bitcoin_prices_nbeats[\"Price\"].shift(periods=i+1)\n",
    "bitcoin_prices_nbeats.dropna().head()"
   ]
  },
  {
   "cell_type": "code",
   "execution_count": null,
   "metadata": {
    "colab": {
     "base_uri": "https://localhost:8080/"
    },
    "execution": {
     "iopub.execute_input": "2023-12-15T18:37:20.156235Z",
     "iopub.status.busy": "2023-12-15T18:37:20.155527Z",
     "iopub.status.idle": "2023-12-15T18:37:20.175803Z",
     "shell.execute_reply": "2023-12-15T18:37:20.174867Z",
     "shell.execute_reply.started": "2023-12-15T18:37:20.156201Z"
    },
    "id": "lth6Q8f_aeu8",
    "outputId": "2f2c5906-11c7-4ac8-c982-a83f144b67bb"
   },
   "outputs": [
    {
     "data": {
      "text/plain": [
       "(28161, 28161, 7041, 7041)"
      ]
     },
     "execution_count": 6,
     "metadata": {},
     "output_type": "execute_result"
    }
   ],
   "source": [
    "X = bitcoin_prices_nbeats.dropna().drop(\"Price\", axis=1)\n",
    "y = bitcoin_prices_nbeats.dropna()[\"Price\"]\n",
    "\n",
    "\n",
    "split_size = int(len(X) * 0.8)\n",
    "X_train, y_train = X[:split_size], y[:split_size]\n",
    "X_test, y_test = X[split_size:], y[split_size:]\n",
    "len(X_train), len(y_train), len(X_test), len(y_test)"
   ]
  },
  {
   "cell_type": "code",
   "execution_count": null,
   "metadata": {
    "colab": {
     "base_uri": "https://localhost:8080/"
    },
    "execution": {
     "iopub.execute_input": "2023-12-15T18:37:20.379870Z",
     "iopub.status.busy": "2023-12-15T18:37:20.379180Z",
     "iopub.status.idle": "2023-12-15T18:37:23.233525Z",
     "shell.execute_reply": "2023-12-15T18:37:23.232609Z",
     "shell.execute_reply.started": "2023-12-15T18:37:20.379837Z"
    },
    "id": "rFsbDVthbOxK",
    "outputId": "35094529-6b68-4c1e-859b-c7ac6b5d6462"
   },
   "outputs": [
    {
     "data": {
      "text/plain": [
       "(<_PrefetchDataset element_spec=(TensorSpec(shape=(None, 6), dtype=tf.float64, name=None), TensorSpec(shape=(None,), dtype=tf.float64, name=None))>,\n",
       " <_PrefetchDataset element_spec=(TensorSpec(shape=(None, 6), dtype=tf.float64, name=None), TensorSpec(shape=(None,), dtype=tf.float64, name=None))>)"
      ]
     },
     "execution_count": 7,
     "metadata": {},
     "output_type": "execute_result"
    }
   ],
   "source": [
    "train_features_dataset = tf.data.Dataset.from_tensor_slices(X_train)\n",
    "train_labels_dataset = tf.data.Dataset.from_tensor_slices(y_train)\n",
    "\n",
    "features_dataset = tf.data.Dataset.from_tensor_slices(X)\n",
    "labels_dataset = tf.data.Dataset.from_tensor_slices(y)\n",
    "\n",
    "test_features_dataset = tf.data.Dataset.from_tensor_slices(X_test)\n",
    "test_labels_dataset = tf.data.Dataset.from_tensor_slices(y_test)\n",
    "\n",
    "\n",
    "train_dataset = tf.data.Dataset.zip((train_features_dataset, train_labels_dataset))\n",
    "test_dataset = tf.data.Dataset.zip((test_features_dataset, test_labels_dataset))\n",
    "\n",
    "\n",
    "BATCH_SIZE = 1024\n",
    "train_dataset = train_dataset.batch(BATCH_SIZE).prefetch(tf.data.AUTOTUNE)\n",
    "test_dataset = test_dataset.batch(BATCH_SIZE).prefetch(tf.data.AUTOTUNE)\n",
    "features_dataset = features_dataset.batch(BATCH_SIZE).prefetch(tf.data.AUTOTUNE)\n",
    "labels_dataset = labels_dataset.batch(BATCH_SIZE).prefetch(tf.data.AUTOTUNE)\n",
    "\n",
    "\n",
    "train_dataset, test_dataset"
   ]
  },
  {
   "cell_type": "code",
   "execution_count": null,
   "metadata": {
    "colab": {
     "base_uri": "https://localhost:8080/"
    },
    "execution": {
     "iopub.execute_input": "2023-12-15T18:37:23.235406Z",
     "iopub.status.busy": "2023-12-15T18:37:23.235120Z",
     "iopub.status.idle": "2023-12-15T18:37:23.241756Z",
     "shell.execute_reply": "2023-12-15T18:37:23.240831Z",
     "shell.execute_reply.started": "2023-12-15T18:37:23.235382Z"
    },
    "id": "ogUKMoFfbUVV",
    "outputId": "4b8c158e-3eba-4944-8a60-4838eb50abd7"
   },
   "outputs": [
    {
     "data": {
      "text/plain": [
       "(6, 7)"
      ]
     },
     "execution_count": 8,
     "metadata": {},
     "output_type": "execute_result"
    }
   ],
   "source": [
    "\n",
    "\n",
    "N_EPOCHS = 5000\n",
    "N_NEURONS = 512\n",
    "N_LAYERS = 4\n",
    "N_STACKS = 30\n",
    "\n",
    "INPUT_SIZE = WINDOW_SIZE * HORIZON\n",
    "THETA_SIZE = INPUT_SIZE + HORIZON\n",
    "\n",
    "INPUT_SIZE, THETA_SIZE"
   ]
  },
  {
   "cell_type": "markdown",
   "metadata": {
    "id": "s8TR0VfAUanf"
   },
   "source": [
    "# Initialization of N-BEATS Block Layer:\n",
    "\n",
    "**nbeats_block_layer:** Instantiates an NBeatsBlock layer with specified parameters (e.g., INPUT_SIZE, THETA_SIZE, HORIZON, N_NEURONS, N_LAYERS) and assigns the name \"InitialBlock.\"\n",
    "# Model Architecture:\n",
    "\n",
    "**stack_input:** Creates an input layer with the specified shape (INPUT_SIZE) named \"stack_input.\"\n",
    "Applies the nbeats_block_layer to the stack_input to obtain backcast and forecast.\n",
    "\n",
    "**residuals:** Computes the residuals by subtracting backcast from stack_input.\n",
    "Stacking Blocks:\n",
    "\n",
    "Uses a loop to create additional N-BEATS blocks (NBeatsBlock) and stack them.\n",
    "For each block, computes the block's backcast and block_forecast using the same parameters as the initial block.\n",
    "Updates the residuals by subtracting the block's backcast.\n",
    "Updates the overall forecast by adding the block's block_forecast.\n",
    "Model Creation:\n",
    "\n",
    "**model_7:** Constructs a Keras model with the defined architecture, taking stack_input as input and outputting the final forecast.\n",
    "Compiles the model using the mean absolute error (mae) as the loss function, the Adam optimizer, and additional metrics such as mean squared error (mse).\n",
    "# Model Training:\n",
    "\n",
    "**model_7.fit:** Trains the model on the specified training dataset (train_dataset) for a given number of epochs (N_EPOCHS).\n",
    "Includes validation data (test_dataset) for monitoring performance during training.\n",
    "Utilizes early stopping and learning rate reduction callbacks to improve training efficiency."
   ]
  },
  {
   "cell_type": "code",
   "execution_count": null,
   "metadata": {
    "colab": {
     "base_uri": "https://localhost:8080/"
    },
    "execution": {
     "iopub.execute_input": "2023-12-15T19:23:54.260572Z",
     "iopub.status.busy": "2023-12-15T19:23:54.260198Z",
     "iopub.status.idle": "2023-12-15T19:39:23.793787Z",
     "shell.execute_reply": "2023-12-15T19:39:23.792942Z",
     "shell.execute_reply.started": "2023-12-15T19:23:54.260531Z"
    },
    "id": "dGPuD3AFbkG2",
    "outputId": "77b9b4fc-999b-4c75-e085-b12d39b1688b"
   },
   "outputs": [
    {
     "name": "stdout",
     "output_type": "stream",
     "text": [
      "\n",
      "Epoch 300: ReduceLROnPlateau reducing learning rate to 0.00010000000474974513.\n",
      "\n",
      "Epoch 509: ReduceLROnPlateau reducing learning rate to 1.0000000474974514e-05.\n",
      "\n",
      "Epoch 609: ReduceLROnPlateau reducing learning rate to 1.0000000656873453e-06.\n"
     ]
    },
    {
     "data": {
      "text/plain": [
       "<keras.src.callbacks.History at 0x78b7f3469e70>"
      ]
     },
     "execution_count": 26,
     "metadata": {},
     "output_type": "execute_result"
    }
   ],
   "source": [
    "nbeats_block_layer = NBeatsBlock(input_size=INPUT_SIZE,\n",
    "                                 theta_size=THETA_SIZE,\n",
    "                                 horizon=HORIZON,\n",
    "                                 n_neurons=N_NEURONS,\n",
    "                                 n_layers=N_LAYERS,\n",
    "                                 name=\"InitialBlock\")\n",
    "\n",
    "\n",
    "stack_input = layers.Input(shape=(INPUT_SIZE), name=\"stack_input\")\n",
    "\n",
    "\n",
    "backcast, forecast = nbeats_block_layer(stack_input)\n",
    "\n",
    "residuals = layers.subtract([stack_input, backcast], name=f\"subtract_00\")\n",
    "\n",
    "\n",
    "for i, _ in enumerate(range(N_STACKS-1)):\n",
    "  backcast, block_forecast = NBeatsBlock(\n",
    "      input_size=INPUT_SIZE,\n",
    "      theta_size=THETA_SIZE,\n",
    "      horizon=HORIZON,\n",
    "      n_neurons=N_NEURONS,\n",
    "      n_layers=N_LAYERS,\n",
    "      name=f\"NBeatsBlock_{i}\"\n",
    "  )(residuals)\n",
    "\n",
    "  residuals = layers.subtract([residuals, backcast], name=f\"subtract_{i}\")\n",
    "  forecast = layers.add([forecast, block_forecast], name=f\"add_{i}\")\n",
    "\n",
    "\n",
    "model_7 = tf.keras.Model(inputs=stack_input,\n",
    "                         outputs=forecast,\n",
    "                         name=\"model_7_N-BEATS\")\n",
    "\n",
    "\n",
    "model_7.compile(loss=\"mae\",\n",
    "                optimizer=tf.keras.optimizers.Adam(0.001),\n",
    "                metrics=[\"mae\", \"mse\"])\n",
    "\n",
    "\n",
    "model_7.fit(train_dataset,\n",
    "            epochs=N_EPOCHS,\n",
    "            validation_data=test_dataset,\n",
    "            verbose=0,\n",
    "            callbacks=[tf.keras.callbacks.EarlyStopping(monitor=\"val_loss\", patience=200, restore_best_weights=True),\n",
    "                      tf.keras.callbacks.ReduceLROnPlateau(monitor=\"val_loss\", patience=100, verbose=1)])"
   ]
  },
  {
   "cell_type": "code",
   "execution_count": null,
   "metadata": {
    "execution": {
     "iopub.execute_input": "2023-12-15T19:43:14.572847Z",
     "iopub.status.busy": "2023-12-15T19:43:14.571790Z",
     "iopub.status.idle": "2023-12-15T19:43:14.577622Z",
     "shell.execute_reply": "2023-12-15T19:43:14.576543Z",
     "shell.execute_reply.started": "2023-12-15T19:43:14.572814Z"
    },
    "id": "6z4lD98bhqGB"
   },
   "outputs": [],
   "source": [
    "def make_pred(model,input_data):\n",
    "    pseudo_forecast=model.predict(input_data)\n",
    "    return tf.squeeze(pseudo_forecast)\n"
   ]
  },
  {
   "cell_type": "code",
   "execution_count": null,
   "metadata": {
    "colab": {
     "base_uri": "https://localhost:8080/"
    },
    "execution": {
     "iopub.execute_input": "2023-12-15T19:43:14.858765Z",
     "iopub.status.busy": "2023-12-15T19:43:14.858465Z",
     "iopub.status.idle": "2023-12-15T19:43:16.680072Z",
     "shell.execute_reply": "2023-12-15T19:43:16.679299Z",
     "shell.execute_reply.started": "2023-12-15T19:43:14.858741Z"
    },
    "id": "GDyli37Oh2H4",
    "outputId": "1aa64eef-6c36-47f5-b3b7-017fe2c58f17"
   },
   "outputs": [
    {
     "name": "stdout",
     "output_type": "stream",
     "text": [
      "35/35 [==============================] - 2s 16ms/step\n"
     ]
    }
   ],
   "source": [
    "model_7_preds=make_pred(model_7,features_dataset)"
   ]
  },
  {
   "cell_type": "markdown",
   "metadata": {
    "id": "lfpKFi15U6KX"
   },
   "source": [
    "# Model Evaluation"
   ]
  },
  {
   "cell_type": "code",
   "execution_count": null,
   "metadata": {
    "execution": {
     "iopub.execute_input": "2023-12-15T19:43:16.682552Z",
     "iopub.status.busy": "2023-12-15T19:43:16.681867Z",
     "iopub.status.idle": "2023-12-15T19:43:16.689130Z",
     "shell.execute_reply": "2023-12-15T19:43:16.688138Z",
     "shell.execute_reply.started": "2023-12-15T19:43:16.682515Z"
    },
    "id": "HbCU-J0HiBGp"
   },
   "outputs": [],
   "source": [
    "def evaluate_model(y_true,y_pred):\n",
    "    y_true=np.array(y_true)\n",
    "    y_pred=np.array(y_pred)\n",
    "    mae=tf.keras.metrics.mean_absolute_error(y_true,y_pred)\n",
    "    mse=tf.keras.metrics.mean_squared_error(y_true,y_pred)\n",
    "    rmse=np.sqrt(mse.numpy())\n",
    "    mape=tf.keras.metrics.mean_absolute_percentage_error(y_true,y_pred)\n",
    "    mase=mean_absolute_scaled_error(y_true,y_pred)\n",
    "    return{'mae':mae.numpy(),\n",
    "           'mse':mse.numpy(),\n",
    "           'rmse':rmse,\n",
    "           'mape':mape.numpy(),\n",
    "           'mase':mase.numpy()}\n",
    "\n"
   ]
  },
  {
   "cell_type": "code",
   "execution_count": null,
   "metadata": {
    "execution": {
     "iopub.execute_input": "2023-12-15T19:43:16.690671Z",
     "iopub.status.busy": "2023-12-15T19:43:16.690345Z",
     "iopub.status.idle": "2023-12-15T19:43:16.703358Z",
     "shell.execute_reply": "2023-12-15T19:43:16.702594Z",
     "shell.execute_reply.started": "2023-12-15T19:43:16.690646Z"
    },
    "id": "JP-hu1lgiWjW"
   },
   "outputs": [],
   "source": [
    "import tensorflow as tf\n",
    "def mean_absolute_scaled_error(y_true,y_pred):\n",
    "    mae=tf.reduce_mean(tf.abs(np.array(y_true)-np.array(y_pred)))\n",
    "    mae_naive_noseason=tf.reduce_mean(tf.abs(np.array(y_true[1:])-np.array(y_true[:-1])))\n",
    "    return mae/mae_naive_noseason"
   ]
  },
  {
   "cell_type": "code",
   "execution_count": null,
   "metadata": {
    "colab": {
     "base_uri": "https://localhost:8080/"
    },
    "execution": {
     "iopub.execute_input": "2023-12-15T19:43:16.705922Z",
     "iopub.status.busy": "2023-12-15T19:43:16.705596Z",
     "iopub.status.idle": "2023-12-15T19:43:16.720749Z",
     "shell.execute_reply": "2023-12-15T19:43:16.719875Z",
     "shell.execute_reply.started": "2023-12-15T19:43:16.705891Z"
    },
    "id": "mIat5yh6iMjH",
    "outputId": "8ffc0f45-b3cf-44ea-8559-7e44e1170f86"
   },
   "outputs": [
    {
     "data": {
      "text/plain": [
       "{'mae': 101.87207,\n",
       " 'mse': 46614.246,\n",
       " 'rmse': 215.90332,\n",
       " 'mape': 0.50376546,\n",
       " 'mase': 0.9872912091728135}"
      ]
     },
     "execution_count": 31,
     "metadata": {},
     "output_type": "execute_result"
    }
   ],
   "source": [
    "import numpy as np\n",
    "evaluate_model(y_true=y,y_pred=model_7_preds)"
   ]
  },
  {
   "cell_type": "code",
   "execution_count": null,
   "metadata": {
    "execution": {
     "iopub.execute_input": "2023-12-15T19:43:25.413501Z",
     "iopub.status.busy": "2023-12-15T19:43:25.413070Z",
     "iopub.status.idle": "2023-12-15T19:43:25.418729Z",
     "shell.execute_reply": "2023-12-15T19:43:25.417758Z",
     "shell.execute_reply.started": "2023-12-15T19:43:25.413471Z"
    },
    "id": "_LomlDfa62dG"
   },
   "outputs": [],
   "source": [
    "pred=pd.Series(model_7_preds,index=btc[6:].index,name='pred_close')"
   ]
  },
  {
   "cell_type": "code",
   "execution_count": null,
   "metadata": {
    "execution": {
     "iopub.execute_input": "2023-12-15T19:43:28.883301Z",
     "iopub.status.busy": "2023-12-15T19:43:28.882891Z",
     "iopub.status.idle": "2023-12-15T19:43:28.891439Z",
     "shell.execute_reply": "2023-12-15T19:43:28.890401Z",
     "shell.execute_reply.started": "2023-12-15T19:43:28.883267Z"
    },
    "id": "DhDs4iAfqDrf"
   },
   "outputs": [],
   "source": [
    "pred_nbeats=pd.concat([btc,pred],axis=1)"
   ]
  },
  {
   "cell_type": "code",
   "execution_count": null,
   "metadata": {
    "execution": {
     "iopub.execute_input": "2023-12-15T19:44:05.237245Z",
     "iopub.status.busy": "2023-12-15T19:44:05.236828Z",
     "iopub.status.idle": "2023-12-15T19:44:05.555878Z",
     "shell.execute_reply": "2023-12-15T19:44:05.554953Z",
     "shell.execute_reply.started": "2023-12-15T19:44:05.237211Z"
    },
    "id": "YtdTt_6Kqe1a"
   },
   "outputs": [],
   "source": [
    "pred_nbeats.to_csv('pred_nbeatsg.csv',index=False)"
   ]
  },
  {
   "cell_type": "code",
   "execution_count": null,
   "metadata": {
    "id": "uIlmQ9VMqucQ"
   },
   "outputs": [],
   "source": []
  }
 ],
 "metadata": {
  "accelerator": "GPU",
  "colab": {
   "gpuType": "T4",
   "provenance": []
  },
  "kaggle": {
   "accelerator": "gpu",
   "dataSources": [
    {
     "datasetId": 4060250,
     "sourceId": 7054455,
     "sourceType": "datasetVersion"
    }
   ],
   "dockerImageVersionId": 30627,
   "isGpuEnabled": true,
   "isInternetEnabled": true,
   "language": "python",
   "sourceType": "notebook"
  },
  "kernelspec": {
   "display_name": "Python 3 (ipykernel)",
   "language": "python",
   "name": "python3"
  },
  "language_info": {
   "codemirror_mode": {
    "name": "ipython",
    "version": 3
   },
   "file_extension": ".py",
   "mimetype": "text/x-python",
   "name": "python",
   "nbconvert_exporter": "python",
   "pygments_lexer": "ipython3",
   "version": "3.11.5"
  }
 },
 "nbformat": 4,
 "nbformat_minor": 4
}
