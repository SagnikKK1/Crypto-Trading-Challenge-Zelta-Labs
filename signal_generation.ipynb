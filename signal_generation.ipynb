{
 "cells": [
  {
   "cell_type": "markdown",
   "id": "6fe12fbf-92f2-464b-aa7c-9f680ee12e55",
   "metadata": {},
   "source": [
    "# Importing Libraries\n"
   ]
  },
  {
   "cell_type": "code",
   "execution_count": 6,
   "id": "b249ac31-962b-44af-ba6f-1c5f04629583",
   "metadata": {},
   "outputs": [],
   "source": [
    "import pandas as pd\n",
    "import numpy as np\n",
    "pd.options.mode.chained_assignment = None"
   ]
  },
  {
   "cell_type": "markdown",
   "id": "cc0256c2-af31-4561-8661-751bfcef6f41",
   "metadata": {},
   "source": [
    "### Importing predicted data and 3 minute data"
   ]
  },
  {
   "cell_type": "code",
   "execution_count": 7,
   "id": "ff0a4653-2ab5-4e57-bad2-5093c47b1124",
   "metadata": {},
   "outputs": [],
   "source": [
    "df_pred=pd.read_csv('pred_nbeatsg.csv')\n",
    "df_pred.dropna(inplace=True) #There are 6 NaN values due to WINDOW_SIZE=6\n",
    "df_pred['datetime']=pd.to_datetime(df_pred['datetime'])\n",
    "\n",
    "df_3m=pd.read_csv('../btcusdt_3m_zelta.csv')\n",
    "df_3m['datetime']=pd.to_datetime(df_3m['datetime'])\n",
    "df_3m.set_index('datetime',drop=True,inplace=True)"
   ]
  },
  {
   "cell_type": "code",
   "execution_count": 8,
   "id": "f2e37efe-f9c9-43cd-9a2c-b365e37327e0",
   "metadata": {},
   "outputs": [
    {
     "data": {
      "text/html": [
       "<div>\n",
       "<style scoped>\n",
       "    .dataframe tbody tr th:only-of-type {\n",
       "        vertical-align: middle;\n",
       "    }\n",
       "\n",
       "    .dataframe tbody tr th {\n",
       "        vertical-align: top;\n",
       "    }\n",
       "\n",
       "    .dataframe thead th {\n",
       "        text-align: right;\n",
       "    }\n",
       "</style>\n",
       "<table border=\"1\" class=\"dataframe\">\n",
       "  <thead>\n",
       "    <tr style=\"text-align: right;\">\n",
       "      <th></th>\n",
       "      <th>datetime</th>\n",
       "      <th>open</th>\n",
       "      <th>high</th>\n",
       "      <th>low</th>\n",
       "      <th>close</th>\n",
       "      <th>volume</th>\n",
       "      <th>pred_close</th>\n",
       "    </tr>\n",
       "  </thead>\n",
       "  <tbody>\n",
       "    <tr>\n",
       "      <th>6</th>\n",
       "      <td>2018-01-01 11:30:00</td>\n",
       "      <td>13539.00</td>\n",
       "      <td>13800.00</td>\n",
       "      <td>13510.00</td>\n",
       "      <td>13780.41</td>\n",
       "      <td>264.989684</td>\n",
       "      <td>13557.026</td>\n",
       "    </tr>\n",
       "    <tr>\n",
       "      <th>7</th>\n",
       "      <td>2018-01-01 12:30:00</td>\n",
       "      <td>13780.00</td>\n",
       "      <td>13818.55</td>\n",
       "      <td>13555.02</td>\n",
       "      <td>13570.35</td>\n",
       "      <td>292.188777</td>\n",
       "      <td>13742.600</td>\n",
       "    </tr>\n",
       "    <tr>\n",
       "      <th>8</th>\n",
       "      <td>2018-01-01 13:30:00</td>\n",
       "      <td>13569.98</td>\n",
       "      <td>13735.24</td>\n",
       "      <td>13400.00</td>\n",
       "      <td>13499.99</td>\n",
       "      <td>271.813553</td>\n",
       "      <td>13577.212</td>\n",
       "    </tr>\n",
       "    <tr>\n",
       "      <th>9</th>\n",
       "      <td>2018-01-01 14:30:00</td>\n",
       "      <td>13499.97</td>\n",
       "      <td>13670.00</td>\n",
       "      <td>13459.11</td>\n",
       "      <td>13616.99</td>\n",
       "      <td>213.095829</td>\n",
       "      <td>13524.081</td>\n",
       "    </tr>\n",
       "    <tr>\n",
       "      <th>10</th>\n",
       "      <td>2018-01-01 15:30:00</td>\n",
       "      <td>13632.00</td>\n",
       "      <td>13657.92</td>\n",
       "      <td>13497.98</td>\n",
       "      <td>13570.01</td>\n",
       "      <td>169.512196</td>\n",
       "      <td>13619.243</td>\n",
       "    </tr>\n",
       "  </tbody>\n",
       "</table>\n",
       "</div>"
      ],
      "text/plain": [
       "              datetime      open      high       low     close      volume  \\\n",
       "6  2018-01-01 11:30:00  13539.00  13800.00  13510.00  13780.41  264.989684   \n",
       "7  2018-01-01 12:30:00  13780.00  13818.55  13555.02  13570.35  292.188777   \n",
       "8  2018-01-01 13:30:00  13569.98  13735.24  13400.00  13499.99  271.813553   \n",
       "9  2018-01-01 14:30:00  13499.97  13670.00  13459.11  13616.99  213.095829   \n",
       "10 2018-01-01 15:30:00  13632.00  13657.92  13497.98  13570.01  169.512196   \n",
       "\n",
       "    pred_close  \n",
       "6    13557.026  \n",
       "7    13742.600  \n",
       "8    13577.212  \n",
       "9    13524.081  \n",
       "10   13619.243  "
      ]
     },
     "execution_count": 8,
     "metadata": {},
     "output_type": "execute_result"
    }
   ],
   "source": [
    "df_pred.head()"
   ]
  },
  {
   "cell_type": "markdown",
   "id": "b6978379-a095-4fc4-ad75-4734b01cf3a4",
   "metadata": {},
   "source": [
    "### Creating features according to the given limits.\n",
    "#### On hourly data, one should idealy buy and hold for a hour if the close price is greater than 0.2% of open price\n",
    "#### For predicted data, we have taken the limit as 0.5% to account for errors. This creates a stronger case to buy based on information from predicted close price"
   ]
  },
  {
   "cell_type": "code",
   "execution_count": 9,
   "id": "29972ffd-7ee5-41cb-8da7-58f6a7f53c4d",
   "metadata": {},
   "outputs": [],
   "source": [
    "df_pred['True_buy']=df_pred['close']>=df_pred['open']*1.002\n",
    "df_pred['pred_buy']=df_pred['pred_close']>=df_pred['open']*1.005\n",
    "df_buy=df_pred[df_pred['pred_buy']]"
   ]
  },
  {
   "cell_type": "code",
   "execution_count": 10,
   "id": "ef26ddf2-4286-4d8e-b8fa-17348a3e6aa8",
   "metadata": {},
   "outputs": [],
   "source": [
    "df_pred['True_sell']=df_pred['close']<=df_pred['open']*0.998\n",
    "df_pred['pred_sell']=df_pred['pred_close']<=df_pred['open']*0.995\n",
    "df_sell=df_pred[df_pred['pred_sell']]"
   ]
  },
  {
   "cell_type": "code",
   "execution_count": 11,
   "id": "284b8a90-d404-4baa-9789-b99ed1d83b72",
   "metadata": {},
   "outputs": [
    {
     "data": {
      "text/html": [
       "<div>\n",
       "<style scoped>\n",
       "    .dataframe tbody tr th:only-of-type {\n",
       "        vertical-align: middle;\n",
       "    }\n",
       "\n",
       "    .dataframe tbody tr th {\n",
       "        vertical-align: top;\n",
       "    }\n",
       "\n",
       "    .dataframe thead th {\n",
       "        text-align: right;\n",
       "    }\n",
       "</style>\n",
       "<table border=\"1\" class=\"dataframe\">\n",
       "  <thead>\n",
       "    <tr style=\"text-align: right;\">\n",
       "      <th></th>\n",
       "      <th>datetime</th>\n",
       "      <th>open</th>\n",
       "      <th>high</th>\n",
       "      <th>low</th>\n",
       "      <th>close</th>\n",
       "      <th>volume</th>\n",
       "      <th>pred_close</th>\n",
       "      <th>True_buy</th>\n",
       "      <th>pred_buy</th>\n",
       "    </tr>\n",
       "  </thead>\n",
       "  <tbody>\n",
       "    <tr>\n",
       "      <th>58</th>\n",
       "      <td>2018-01-03 15:30:00</td>\n",
       "      <td>14501.05</td>\n",
       "      <td>14855.00</td>\n",
       "      <td>14150.00</td>\n",
       "      <td>14455.55</td>\n",
       "      <td>1271.034018</td>\n",
       "      <td>14575.973</td>\n",
       "      <td>False</td>\n",
       "      <td>True</td>\n",
       "    </tr>\n",
       "    <tr>\n",
       "      <th>80</th>\n",
       "      <td>2018-01-04 14:30:00</td>\n",
       "      <td>14221.05</td>\n",
       "      <td>14410.05</td>\n",
       "      <td>13918.04</td>\n",
       "      <td>14299.01</td>\n",
       "      <td>1121.487750</td>\n",
       "      <td>14302.250</td>\n",
       "      <td>True</td>\n",
       "      <td>True</td>\n",
       "    </tr>\n",
       "    <tr>\n",
       "      <th>108</th>\n",
       "      <td>2018-01-05 18:30:00</td>\n",
       "      <td>15838.00</td>\n",
       "      <td>16199.00</td>\n",
       "      <td>15750.00</td>\n",
       "      <td>16093.94</td>\n",
       "      <td>996.320352</td>\n",
       "      <td>15928.647</td>\n",
       "      <td>True</td>\n",
       "      <td>True</td>\n",
       "    </tr>\n",
       "    <tr>\n",
       "      <th>171</th>\n",
       "      <td>2018-01-08 09:30:00</td>\n",
       "      <td>15632.48</td>\n",
       "      <td>15840.00</td>\n",
       "      <td>15510.00</td>\n",
       "      <td>15641.01</td>\n",
       "      <td>638.906874</td>\n",
       "      <td>15728.309</td>\n",
       "      <td>False</td>\n",
       "      <td>True</td>\n",
       "    </tr>\n",
       "    <tr>\n",
       "      <th>177</th>\n",
       "      <td>2018-01-08 15:30:00</td>\n",
       "      <td>14650.00</td>\n",
       "      <td>15183.59</td>\n",
       "      <td>14551.00</td>\n",
       "      <td>15183.59</td>\n",
       "      <td>1376.251498</td>\n",
       "      <td>14817.572</td>\n",
       "      <td>True</td>\n",
       "      <td>True</td>\n",
       "    </tr>\n",
       "  </tbody>\n",
       "</table>\n",
       "</div>"
      ],
      "text/plain": [
       "               datetime      open      high       low     close       volume  \\\n",
       "58  2018-01-03 15:30:00  14501.05  14855.00  14150.00  14455.55  1271.034018   \n",
       "80  2018-01-04 14:30:00  14221.05  14410.05  13918.04  14299.01  1121.487750   \n",
       "108 2018-01-05 18:30:00  15838.00  16199.00  15750.00  16093.94   996.320352   \n",
       "171 2018-01-08 09:30:00  15632.48  15840.00  15510.00  15641.01   638.906874   \n",
       "177 2018-01-08 15:30:00  14650.00  15183.59  14551.00  15183.59  1376.251498   \n",
       "\n",
       "     pred_close  True_buy  pred_buy  \n",
       "58    14575.973     False      True  \n",
       "80    14302.250      True      True  \n",
       "108   15928.647      True      True  \n",
       "171   15728.309     False      True  \n",
       "177   14817.572      True      True  "
      ]
     },
     "execution_count": 11,
     "metadata": {},
     "output_type": "execute_result"
    }
   ],
   "source": [
    "df_buy.head()"
   ]
  },
  {
   "cell_type": "code",
   "execution_count": 12,
   "id": "939144a7-1843-4e4f-a26a-4ba31eb2e8f9",
   "metadata": {},
   "outputs": [
    {
     "data": {
      "text/html": [
       "<div>\n",
       "<style scoped>\n",
       "    .dataframe tbody tr th:only-of-type {\n",
       "        vertical-align: middle;\n",
       "    }\n",
       "\n",
       "    .dataframe tbody tr th {\n",
       "        vertical-align: top;\n",
       "    }\n",
       "\n",
       "    .dataframe thead th {\n",
       "        text-align: right;\n",
       "    }\n",
       "</style>\n",
       "<table border=\"1\" class=\"dataframe\">\n",
       "  <thead>\n",
       "    <tr style=\"text-align: right;\">\n",
       "      <th></th>\n",
       "      <th>datetime</th>\n",
       "      <th>open</th>\n",
       "      <th>high</th>\n",
       "      <th>low</th>\n",
       "      <th>close</th>\n",
       "      <th>volume</th>\n",
       "      <th>pred_close</th>\n",
       "      <th>True_buy</th>\n",
       "      <th>pred_buy</th>\n",
       "      <th>True_sell</th>\n",
       "      <th>pred_sell</th>\n",
       "    </tr>\n",
       "  </thead>\n",
       "  <tbody>\n",
       "    <tr>\n",
       "      <th>60</th>\n",
       "      <td>2018-01-03 17:30:00</td>\n",
       "      <td>14764.73</td>\n",
       "      <td>14799.00</td>\n",
       "      <td>14400.04</td>\n",
       "      <td>14450.00</td>\n",
       "      <td>614.534955</td>\n",
       "      <td>14677.031</td>\n",
       "      <td>False</td>\n",
       "      <td>False</td>\n",
       "      <td>True</td>\n",
       "      <td>True</td>\n",
       "    </tr>\n",
       "    <tr>\n",
       "      <th>181</th>\n",
       "      <td>2018-01-08 19:30:00</td>\n",
       "      <td>14659.88</td>\n",
       "      <td>14693.01</td>\n",
       "      <td>13155.00</td>\n",
       "      <td>13489.95</td>\n",
       "      <td>2512.360318</td>\n",
       "      <td>14583.276</td>\n",
       "      <td>False</td>\n",
       "      <td>False</td>\n",
       "      <td>True</td>\n",
       "      <td>True</td>\n",
       "    </tr>\n",
       "    <tr>\n",
       "      <th>185</th>\n",
       "      <td>2018-01-08 23:30:00</td>\n",
       "      <td>14739.80</td>\n",
       "      <td>15100.00</td>\n",
       "      <td>14580.22</td>\n",
       "      <td>14900.00</td>\n",
       "      <td>723.505895</td>\n",
       "      <td>14550.065</td>\n",
       "      <td>True</td>\n",
       "      <td>False</td>\n",
       "      <td>False</td>\n",
       "      <td>True</td>\n",
       "    </tr>\n",
       "    <tr>\n",
       "      <th>187</th>\n",
       "      <td>2018-01-09 01:30:00</td>\n",
       "      <td>15196.56</td>\n",
       "      <td>15270.99</td>\n",
       "      <td>14527.08</td>\n",
       "      <td>14899.70</td>\n",
       "      <td>835.157357</td>\n",
       "      <td>15092.431</td>\n",
       "      <td>False</td>\n",
       "      <td>False</td>\n",
       "      <td>True</td>\n",
       "      <td>True</td>\n",
       "    </tr>\n",
       "    <tr>\n",
       "      <th>226</th>\n",
       "      <td>2018-01-10 16:30:00</td>\n",
       "      <td>13735.96</td>\n",
       "      <td>14128.30</td>\n",
       "      <td>13650.00</td>\n",
       "      <td>13919.08</td>\n",
       "      <td>763.192245</td>\n",
       "      <td>13657.253</td>\n",
       "      <td>True</td>\n",
       "      <td>False</td>\n",
       "      <td>False</td>\n",
       "      <td>True</td>\n",
       "    </tr>\n",
       "  </tbody>\n",
       "</table>\n",
       "</div>"
      ],
      "text/plain": [
       "               datetime      open      high       low     close       volume  \\\n",
       "60  2018-01-03 17:30:00  14764.73  14799.00  14400.04  14450.00   614.534955   \n",
       "181 2018-01-08 19:30:00  14659.88  14693.01  13155.00  13489.95  2512.360318   \n",
       "185 2018-01-08 23:30:00  14739.80  15100.00  14580.22  14900.00   723.505895   \n",
       "187 2018-01-09 01:30:00  15196.56  15270.99  14527.08  14899.70   835.157357   \n",
       "226 2018-01-10 16:30:00  13735.96  14128.30  13650.00  13919.08   763.192245   \n",
       "\n",
       "     pred_close  True_buy  pred_buy  True_sell  pred_sell  \n",
       "60    14677.031     False     False       True       True  \n",
       "181   14583.276     False     False       True       True  \n",
       "185   14550.065      True     False      False       True  \n",
       "187   15092.431     False     False       True       True  \n",
       "226   13657.253      True     False      False       True  "
      ]
     },
     "execution_count": 12,
     "metadata": {},
     "output_type": "execute_result"
    }
   ],
   "source": [
    "df_sell.head()"
   ]
  },
  {
   "cell_type": "markdown",
   "id": "dd8f9971-7bb9-42d0-b77c-007069b88408",
   "metadata": {},
   "source": [
    "#### We are getting an accuracy of 69.07% on buy side, which tells us that approximately 7 out of 10 times our buy trade is profitable.\n"
   ]
  },
  {
   "cell_type": "code",
   "execution_count": 13,
   "id": "8e359706-cbf5-47cf-ad6b-21bbc41a52c4",
   "metadata": {},
   "outputs": [
    {
     "data": {
      "text/plain": [
       "0.6907216494845361"
      ]
     },
     "execution_count": 13,
     "metadata": {},
     "output_type": "execute_result"
    }
   ],
   "source": [
    "sum(df_buy['pred_buy']==df_buy['True_buy'])/len(df_buy)"
   ]
  },
  {
   "cell_type": "markdown",
   "id": "b707766d-3376-45aa-a6e5-a76a8200bda7",
   "metadata": {},
   "source": [
    "#### We are getting an accuracy of 73.49% on sell side, which tells us that approximately 7 out of 10 times our short trade is profitable."
   ]
  },
  {
   "cell_type": "code",
   "execution_count": 14,
   "id": "a543e84a-e2c2-45fe-a35a-476727625505",
   "metadata": {},
   "outputs": [
    {
     "data": {
      "text/plain": [
       "0.7349397590361446"
      ]
     },
     "execution_count": 14,
     "metadata": {},
     "output_type": "execute_result"
    }
   ],
   "source": [
    "sum(df_sell['pred_sell']==df_sell['True_sell'])/len(df_sell)"
   ]
  },
  {
   "cell_type": "code",
   "execution_count": 15,
   "id": "ce0f7744-80f3-4664-ad54-aa1cfba9500b",
   "metadata": {},
   "outputs": [
    {
     "data": {
      "text/plain": [
       "277"
      ]
     },
     "execution_count": 15,
     "metadata": {},
     "output_type": "execute_result"
    }
   ],
   "source": [
    "len(set(list(df_buy.index)+list(df_sell.index)))# Total number of trades"
   ]
  },
  {
   "cell_type": "markdown",
   "id": "56195f9b-b173-4018-9d33-005ad16ea28a",
   "metadata": {},
   "source": [
    "# Signal Generation"
   ]
  },
  {
   "cell_type": "code",
   "execution_count": 16,
   "id": "c3f107b8-31ed-40ca-b06d-ea27745cc895",
   "metadata": {},
   "outputs": [],
   "source": [
    "df_pred['pred_buy']=df_pred['pred_buy'].apply(lambda x: 1 if x else 0)\n",
    "df_pred['pred_sell']=df_pred['pred_sell'].apply(lambda x: -1 if x else 0)"
   ]
  },
  {
   "cell_type": "code",
   "execution_count": 17,
   "id": "2da1fa33-5280-4f71-8846-81acb3d3ecf3",
   "metadata": {},
   "outputs": [],
   "source": [
    "df_pred['trade']=df_pred['pred_buy']+df_pred['pred_sell']"
   ]
  },
  {
   "cell_type": "code",
   "execution_count": 18,
   "id": "a6645900-55fc-428f-a613-225d7e28db54",
   "metadata": {},
   "outputs": [
    {
     "data": {
      "text/plain": [
       "trade\n",
       " 0    34925\n",
       " 1      194\n",
       "-1       83\n",
       "Name: count, dtype: int64"
      ]
     },
     "execution_count": 18,
     "metadata": {},
     "output_type": "execute_result"
    }
   ],
   "source": [
    "df_pred['trade'].value_counts()"
   ]
  },
  {
   "cell_type": "code",
   "execution_count": 19,
   "id": "23a5ecaa-f317-438f-ad0c-86448ecac995",
   "metadata": {},
   "outputs": [
    {
     "data": {
      "text/plain": [
       "1"
      ]
     },
     "execution_count": 19,
     "metadata": {},
     "output_type": "execute_result"
    }
   ],
   "source": [
    "count=0\n",
    "for i,j in enumerate(df_pred['datetime']):\n",
    "    try:\n",
    "        if df_pred['trade'].iloc[i]==0:\n",
    "            continue\n",
    "        df_3m['open'].loc[j]\n",
    "        df_3m['open'].loc[j+pd.DateOffset(minutes=57)]\n",
    "    except:\n",
    "        df_pred['trade'].iloc[i]=0\n",
    "        count+=1\n",
    "count"
   ]
  },
  {
   "cell_type": "code",
   "execution_count": 20,
   "id": "a7e1e8e5-82e6-4de7-8824-a73a18b0b389",
   "metadata": {},
   "outputs": [
    {
     "data": {
      "text/html": [
       "<div>\n",
       "<style scoped>\n",
       "    .dataframe tbody tr th:only-of-type {\n",
       "        vertical-align: middle;\n",
       "    }\n",
       "\n",
       "    .dataframe tbody tr th {\n",
       "        vertical-align: top;\n",
       "    }\n",
       "\n",
       "    .dataframe thead th {\n",
       "        text-align: right;\n",
       "    }\n",
       "</style>\n",
       "<table border=\"1\" class=\"dataframe\">\n",
       "  <thead>\n",
       "    <tr style=\"text-align: right;\">\n",
       "      <th></th>\n",
       "      <th>datetime</th>\n",
       "      <th>open</th>\n",
       "      <th>high</th>\n",
       "      <th>low</th>\n",
       "      <th>close</th>\n",
       "      <th>volume</th>\n",
       "      <th>pred_close</th>\n",
       "      <th>True_buy</th>\n",
       "      <th>pred_buy</th>\n",
       "      <th>True_sell</th>\n",
       "      <th>pred_sell</th>\n",
       "      <th>trade</th>\n",
       "    </tr>\n",
       "  </thead>\n",
       "  <tbody>\n",
       "    <tr>\n",
       "      <th>6</th>\n",
       "      <td>2018-01-01 11:30:00</td>\n",
       "      <td>13539.00</td>\n",
       "      <td>13800.00</td>\n",
       "      <td>13510.00</td>\n",
       "      <td>13780.41</td>\n",
       "      <td>264.989684</td>\n",
       "      <td>13557.026</td>\n",
       "      <td>True</td>\n",
       "      <td>0</td>\n",
       "      <td>False</td>\n",
       "      <td>0</td>\n",
       "      <td>0</td>\n",
       "    </tr>\n",
       "    <tr>\n",
       "      <th>7</th>\n",
       "      <td>2018-01-01 12:30:00</td>\n",
       "      <td>13780.00</td>\n",
       "      <td>13818.55</td>\n",
       "      <td>13555.02</td>\n",
       "      <td>13570.35</td>\n",
       "      <td>292.188777</td>\n",
       "      <td>13742.600</td>\n",
       "      <td>False</td>\n",
       "      <td>0</td>\n",
       "      <td>True</td>\n",
       "      <td>0</td>\n",
       "      <td>0</td>\n",
       "    </tr>\n",
       "    <tr>\n",
       "      <th>8</th>\n",
       "      <td>2018-01-01 13:30:00</td>\n",
       "      <td>13569.98</td>\n",
       "      <td>13735.24</td>\n",
       "      <td>13400.00</td>\n",
       "      <td>13499.99</td>\n",
       "      <td>271.813553</td>\n",
       "      <td>13577.212</td>\n",
       "      <td>False</td>\n",
       "      <td>0</td>\n",
       "      <td>True</td>\n",
       "      <td>0</td>\n",
       "      <td>0</td>\n",
       "    </tr>\n",
       "    <tr>\n",
       "      <th>9</th>\n",
       "      <td>2018-01-01 14:30:00</td>\n",
       "      <td>13499.97</td>\n",
       "      <td>13670.00</td>\n",
       "      <td>13459.11</td>\n",
       "      <td>13616.99</td>\n",
       "      <td>213.095829</td>\n",
       "      <td>13524.081</td>\n",
       "      <td>True</td>\n",
       "      <td>0</td>\n",
       "      <td>False</td>\n",
       "      <td>0</td>\n",
       "      <td>0</td>\n",
       "    </tr>\n",
       "    <tr>\n",
       "      <th>10</th>\n",
       "      <td>2018-01-01 15:30:00</td>\n",
       "      <td>13632.00</td>\n",
       "      <td>13657.92</td>\n",
       "      <td>13497.98</td>\n",
       "      <td>13570.01</td>\n",
       "      <td>169.512196</td>\n",
       "      <td>13619.243</td>\n",
       "      <td>False</td>\n",
       "      <td>0</td>\n",
       "      <td>True</td>\n",
       "      <td>0</td>\n",
       "      <td>0</td>\n",
       "    </tr>\n",
       "  </tbody>\n",
       "</table>\n",
       "</div>"
      ],
      "text/plain": [
       "              datetime      open      high       low     close      volume  \\\n",
       "6  2018-01-01 11:30:00  13539.00  13800.00  13510.00  13780.41  264.989684   \n",
       "7  2018-01-01 12:30:00  13780.00  13818.55  13555.02  13570.35  292.188777   \n",
       "8  2018-01-01 13:30:00  13569.98  13735.24  13400.00  13499.99  271.813553   \n",
       "9  2018-01-01 14:30:00  13499.97  13670.00  13459.11  13616.99  213.095829   \n",
       "10 2018-01-01 15:30:00  13632.00  13657.92  13497.98  13570.01  169.512196   \n",
       "\n",
       "    pred_close  True_buy  pred_buy  True_sell  pred_sell  trade  \n",
       "6    13557.026      True         0      False          0      0  \n",
       "7    13742.600     False         0       True          0      0  \n",
       "8    13577.212     False         0       True          0      0  \n",
       "9    13524.081      True         0      False          0      0  \n",
       "10   13619.243     False         0       True          0      0  "
      ]
     },
     "execution_count": 20,
     "metadata": {},
     "output_type": "execute_result"
    }
   ],
   "source": [
    "df_pred.head()"
   ]
  },
  {
   "cell_type": "code",
   "execution_count": 21,
   "id": "adf1a36d-0c21-4b64-8ce3-93d91600802e",
   "metadata": {},
   "outputs": [
    {
     "data": {
      "text/plain": [
       "trade\n",
       " 0    34926\n",
       " 1      193\n",
       "-1       83\n",
       "Name: count, dtype: int64"
      ]
     },
     "execution_count": 21,
     "metadata": {},
     "output_type": "execute_result"
    }
   ],
   "source": [
    "df_pred['trade'].value_counts()"
   ]
  },
  {
   "cell_type": "code",
   "execution_count": 22,
   "id": "ecd4d5ed-16f9-4486-adb1-83350ee127ae",
   "metadata": {},
   "outputs": [
    {
     "data": {
      "text/html": [
       "<div>\n",
       "<style scoped>\n",
       "    .dataframe tbody tr th:only-of-type {\n",
       "        vertical-align: middle;\n",
       "    }\n",
       "\n",
       "    .dataframe tbody tr th {\n",
       "        vertical-align: top;\n",
       "    }\n",
       "\n",
       "    .dataframe thead th {\n",
       "        text-align: right;\n",
       "    }\n",
       "</style>\n",
       "<table border=\"1\" class=\"dataframe\">\n",
       "  <thead>\n",
       "    <tr style=\"text-align: right;\">\n",
       "      <th></th>\n",
       "      <th>open</th>\n",
       "      <th>high</th>\n",
       "      <th>low</th>\n",
       "      <th>close</th>\n",
       "      <th>volume</th>\n",
       "    </tr>\n",
       "    <tr>\n",
       "      <th>datetime</th>\n",
       "      <th></th>\n",
       "      <th></th>\n",
       "      <th></th>\n",
       "      <th></th>\n",
       "      <th></th>\n",
       "    </tr>\n",
       "  </thead>\n",
       "  <tbody>\n",
       "    <tr>\n",
       "      <th>2018-01-01 05:30:00</th>\n",
       "      <td>13715.65</td>\n",
       "      <td>13715.65</td>\n",
       "      <td>13666.11</td>\n",
       "      <td>13680.00</td>\n",
       "      <td>6.303815</td>\n",
       "    </tr>\n",
       "    <tr>\n",
       "      <th>2018-01-01 05:33:00</th>\n",
       "      <td>13679.98</td>\n",
       "      <td>13679.98</td>\n",
       "      <td>13554.44</td>\n",
       "      <td>13568.00</td>\n",
       "      <td>33.709206</td>\n",
       "    </tr>\n",
       "    <tr>\n",
       "      <th>2018-01-01 05:36:00</th>\n",
       "      <td>13568.00</td>\n",
       "      <td>13575.00</td>\n",
       "      <td>13501.01</td>\n",
       "      <td>13575.00</td>\n",
       "      <td>29.645987</td>\n",
       "    </tr>\n",
       "    <tr>\n",
       "      <th>2018-01-01 05:39:00</th>\n",
       "      <td>13539.99</td>\n",
       "      <td>13575.00</td>\n",
       "      <td>13400.01</td>\n",
       "      <td>13515.26</td>\n",
       "      <td>30.696039</td>\n",
       "    </tr>\n",
       "    <tr>\n",
       "      <th>2018-01-01 05:42:00</th>\n",
       "      <td>13515.26</td>\n",
       "      <td>13568.66</td>\n",
       "      <td>13473.47</td>\n",
       "      <td>13556.15</td>\n",
       "      <td>23.260966</td>\n",
       "    </tr>\n",
       "  </tbody>\n",
       "</table>\n",
       "</div>"
      ],
      "text/plain": [
       "                         open      high       low     close     volume\n",
       "datetime                                                              \n",
       "2018-01-01 05:30:00  13715.65  13715.65  13666.11  13680.00   6.303815\n",
       "2018-01-01 05:33:00  13679.98  13679.98  13554.44  13568.00  33.709206\n",
       "2018-01-01 05:36:00  13568.00  13575.00  13501.01  13575.00  29.645987\n",
       "2018-01-01 05:39:00  13539.99  13575.00  13400.01  13515.26  30.696039\n",
       "2018-01-01 05:42:00  13515.26  13568.66  13473.47  13556.15  23.260966"
      ]
     },
     "execution_count": 22,
     "metadata": {},
     "output_type": "execute_result"
    }
   ],
   "source": [
    "df_3m.head()"
   ]
  },
  {
   "cell_type": "code",
   "execution_count": 23,
   "id": "d1f36b93-bf82-4a5f-84da-9c6a864bc25f",
   "metadata": {},
   "outputs": [],
   "source": [
    "df_3m['signals']=0"
   ]
  },
  {
   "cell_type": "code",
   "execution_count": 24,
   "id": "e596c02e-d097-46f3-8f15-a4b6b641686f",
   "metadata": {},
   "outputs": [],
   "source": [
    "df_trade=df_pred[df_pred['trade']!=0]"
   ]
  },
  {
   "cell_type": "markdown",
   "id": "8ee6f6c5-2b92-4b77-b33c-de7c33ec9f69",
   "metadata": {},
   "source": [
    "# Creating signals in the 3 minute dataframe, where we have taken every trade for 57 minutes. "
   ]
  },
  {
   "cell_type": "code",
   "execution_count": 25,
   "id": "d7a787e8-44f4-40b6-bf4e-6aa225192bf2",
   "metadata": {},
   "outputs": [],
   "source": [
    "for i in range(len(df_trade)):\n",
    "    df_3m['signals'].loc[df_trade['datetime'].iloc[i]]=df_trade['trade'].iloc[i]\n",
    "    df_3m['signals'].loc[df_trade['datetime'].iloc[i]+pd.DateOffset(minutes=57)]=-df_trade['trade'].iloc[i]"
   ]
  },
  {
   "cell_type": "code",
   "execution_count": 26,
   "id": "8be524f0-701d-40c5-8af3-11934eca05e6",
   "metadata": {},
   "outputs": [
    {
     "data": {
      "text/html": [
       "<div>\n",
       "<style scoped>\n",
       "    .dataframe tbody tr th:only-of-type {\n",
       "        vertical-align: middle;\n",
       "    }\n",
       "\n",
       "    .dataframe tbody tr th {\n",
       "        vertical-align: top;\n",
       "    }\n",
       "\n",
       "    .dataframe thead th {\n",
       "        text-align: right;\n",
       "    }\n",
       "</style>\n",
       "<table border=\"1\" class=\"dataframe\">\n",
       "  <thead>\n",
       "    <tr style=\"text-align: right;\">\n",
       "      <th></th>\n",
       "      <th>open</th>\n",
       "      <th>high</th>\n",
       "      <th>low</th>\n",
       "      <th>close</th>\n",
       "      <th>volume</th>\n",
       "      <th>signals</th>\n",
       "    </tr>\n",
       "    <tr>\n",
       "      <th>datetime</th>\n",
       "      <th></th>\n",
       "      <th></th>\n",
       "      <th></th>\n",
       "      <th></th>\n",
       "      <th></th>\n",
       "      <th></th>\n",
       "    </tr>\n",
       "  </thead>\n",
       "  <tbody>\n",
       "    <tr>\n",
       "      <th>2018-01-01 05:30:00</th>\n",
       "      <td>13715.65</td>\n",
       "      <td>13715.65</td>\n",
       "      <td>13666.11</td>\n",
       "      <td>13680.00</td>\n",
       "      <td>6.303815</td>\n",
       "      <td>0</td>\n",
       "    </tr>\n",
       "    <tr>\n",
       "      <th>2018-01-01 05:33:00</th>\n",
       "      <td>13679.98</td>\n",
       "      <td>13679.98</td>\n",
       "      <td>13554.44</td>\n",
       "      <td>13568.00</td>\n",
       "      <td>33.709206</td>\n",
       "      <td>0</td>\n",
       "    </tr>\n",
       "    <tr>\n",
       "      <th>2018-01-01 05:36:00</th>\n",
       "      <td>13568.00</td>\n",
       "      <td>13575.00</td>\n",
       "      <td>13501.01</td>\n",
       "      <td>13575.00</td>\n",
       "      <td>29.645987</td>\n",
       "      <td>0</td>\n",
       "    </tr>\n",
       "    <tr>\n",
       "      <th>2018-01-01 05:39:00</th>\n",
       "      <td>13539.99</td>\n",
       "      <td>13575.00</td>\n",
       "      <td>13400.01</td>\n",
       "      <td>13515.26</td>\n",
       "      <td>30.696039</td>\n",
       "      <td>0</td>\n",
       "    </tr>\n",
       "    <tr>\n",
       "      <th>2018-01-01 05:42:00</th>\n",
       "      <td>13515.26</td>\n",
       "      <td>13568.66</td>\n",
       "      <td>13473.47</td>\n",
       "      <td>13556.15</td>\n",
       "      <td>23.260966</td>\n",
       "      <td>0</td>\n",
       "    </tr>\n",
       "  </tbody>\n",
       "</table>\n",
       "</div>"
      ],
      "text/plain": [
       "                         open      high       low     close     volume  \\\n",
       "datetime                                                                 \n",
       "2018-01-01 05:30:00  13715.65  13715.65  13666.11  13680.00   6.303815   \n",
       "2018-01-01 05:33:00  13679.98  13679.98  13554.44  13568.00  33.709206   \n",
       "2018-01-01 05:36:00  13568.00  13575.00  13501.01  13575.00  29.645987   \n",
       "2018-01-01 05:39:00  13539.99  13575.00  13400.01  13515.26  30.696039   \n",
       "2018-01-01 05:42:00  13515.26  13568.66  13473.47  13556.15  23.260966   \n",
       "\n",
       "                     signals  \n",
       "datetime                      \n",
       "2018-01-01 05:30:00        0  \n",
       "2018-01-01 05:33:00        0  \n",
       "2018-01-01 05:36:00        0  \n",
       "2018-01-01 05:39:00        0  \n",
       "2018-01-01 05:42:00        0  "
      ]
     },
     "execution_count": 26,
     "metadata": {},
     "output_type": "execute_result"
    }
   ],
   "source": [
    "df_3m.head()"
   ]
  },
  {
   "cell_type": "code",
   "execution_count": 27,
   "id": "89aeef78-e0e3-4f8c-b354-9a22dd25367e",
   "metadata": {},
   "outputs": [],
   "source": [
    "df_3m.reset_index(inplace=True)"
   ]
  },
  {
   "cell_type": "code",
   "execution_count": 28,
   "id": "891ef18c-f745-4ad9-bc92-23a43bc5db03",
   "metadata": {},
   "outputs": [],
   "source": [
    "final=df_3m[['datetime','signals','open','high','low','close','volume']]"
   ]
  },
  {
   "cell_type": "code",
   "execution_count": 29,
   "id": "99ffd48e-2ec7-46f7-a43a-ee09205df04f",
   "metadata": {},
   "outputs": [],
   "source": [
    "final.to_csv('final_logs.csv')"
   ]
  },
  {
   "cell_type": "code",
   "execution_count": null,
   "id": "25d8ccd3-98b8-4d77-b346-fbd8d213812d",
   "metadata": {},
   "outputs": [],
   "source": []
  }
 ],
 "metadata": {
  "kernelspec": {
   "display_name": "Python 3 (ipykernel)",
   "language": "python",
   "name": "python3"
  },
  "language_info": {
   "codemirror_mode": {
    "name": "ipython",
    "version": 3
   },
   "file_extension": ".py",
   "mimetype": "text/x-python",
   "name": "python",
   "nbconvert_exporter": "python",
   "pygments_lexer": "ipython3",
   "version": "3.11.5"
  }
 },
 "nbformat": 4,
 "nbformat_minor": 5
}
